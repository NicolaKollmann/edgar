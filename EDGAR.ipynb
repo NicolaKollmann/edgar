{
 "cells": [
  {
   "cell_type": "markdown",
   "metadata": {},
   "source": [
    "# SEC EDGAR database"
   ]
  },
  {
   "cell_type": "markdown",
   "metadata": {},
   "source": [
    "## What is EDGAR?"
   ]
  },
  {
   "cell_type": "markdown",
   "metadata": {},
   "source": [
    "[EDGAR](https://www.sec.gov/edgar.shtml) is the Electronic Data Gathering, Analysis, and Retrieval system used at the U.S. Securities and Exchange Commission (SEC). EDGAR is the primary system for submissions by companies and others who are required by law to file information with the SEC. \n",
    "\n",
    "Containing millions of company and individual filings, EDGAR benefits investors, corporations, and the U.S. economy overall by increasing the efficiency, transparency, and fairness of the securities markets. The system processes about 3,000 filings per day, serves up 3,000 terabytes of data to the public annually, and accommodates 40,000 new filers per year on average."
   ]
  },
  {
   "cell_type": "markdown",
   "metadata": {},
   "source": [
    "## Who has access to EDGAR’s information?"
   ]
  },
  {
   "cell_type": "markdown",
   "metadata": {},
   "source": [
    "Access to EDGAR’s public database is **free**—allowing you to research, for example, a public company’s financial information and operations by reviewing the filings the company makes with the SEC. You can also research information provided by mutual funds (including money market funds), exchange-traded funds (ETFs), variable annuities, and individuals."
   ]
  },
  {
   "cell_type": "markdown",
   "metadata": {},
   "source": [
    "## What was the goal of this project?"
   ]
  },
  {
   "cell_type": "markdown",
   "metadata": {},
   "source": [
    "Even though the database is very comprehensive and requires companies by law to submit their filings electroniclly since 1996, it can be hard to download information in a bulk. For one part of my PhD project, however, it was necessary to do exactly that. \n",
    "> Starting from 1996 up to the end of 2019, I was interested in information from the 10-K and 10-Q filings of US corporations. Fortunately their is a R package available that facilitates this task - `edgar`.  "
   ]
  },
  {
   "cell_type": "markdown",
   "metadata": {},
   "source": [
    "The `edgar` package can be installed and loaded like any other R package:"
   ]
  },
  {
   "cell_type": "code",
   "execution_count": null,
   "metadata": {},
   "outputs": [],
   "source": [
    "install.packages('edgar')\n",
    "library(edgar)\n",
    "\n",
    "# it is also always a good idea to load the tidyverse\n",
    "library(tidyverse)"
   ]
  },
  {
   "cell_type": "markdown",
   "metadata": {},
   "source": [
    "## Getting the master indexes from the database"
   ]
  },
  {
   "cell_type": "markdown",
   "metadata": {},
   "source": [
    "The filings on the SEC website are organized according to a master index file for each quarter. The code below creates a vector for the sample period and downloads all master indexes to your working directory. It stores them as separate .Rda files for each year."
   ]
  },
  {
   "cell_type": "code",
   "execution_count": null,
   "metadata": {},
   "outputs": [],
   "source": [
    "# Create a vector for the sample period\n",
    "period <- c(1996:2019)\n",
    "\n",
    "# Get the EDGAR master indexes\n",
    "getMasterIndex(period)\n",
    "## Downloads quarterly master index files for the sample period."
   ]
  },
  {
   "cell_type": "markdown",
   "metadata": {},
   "source": [
    "## Convert the Master Indexes to a file with all 10-Q and 10-K filings (URLs and Header information)"
   ]
  },
  {
   "cell_type": "markdown",
   "metadata": {},
   "source": [
    "The separate .Rda files can be combined into a single dataframe. The code below starts by creating an empty dataframe `out.file`, which is used to store the combined master indexes. In a next step, all the file names for the master indexes get stored in the `file.names` vector. The for loop takes advantage of the objects that were created by iterating over all master indexes and storing them together in the `out.file`.   "
   ]
  },
  {
   "cell_type": "code",
   "execution_count": null,
   "metadata": {},
   "outputs": [],
   "source": [
    "# Combines the Master Indexes into one file\n",
    "out.file<-\"\"\n",
    "file.names <- Sys.glob(\"*.Rda\")\n",
    "for(i in 1:length(file.names)){\n",
    "  load(file.names[i])\n",
    "  out.file <- rbind(out.file, year.master)\n",
    "}\n",
    "out.file <- out.file[-1,]\n",
    "\n",
    "save(out.file, file = \"master.Rda\")\n",
    "# this file contains the index on all EDGAR filings from 1996 to 2019 (around 19 million...)"
   ]
  },
  {
   "cell_type": "markdown",
   "metadata": {},
   "source": [
    "The approximately 19 million observations in the resulting file represent all filings made by corporations during the sample period. However, my research interest focused on the 10-K and 10-Q forms. These forms represent the annual and quarterly report, respectively. For more information regarding the different form types visit: [Descriptions of SEC forms](https://www.sec.gov/info/edgar/forms/edgform.pdf) "
   ]
  },
  {
   "cell_type": "code",
   "execution_count": null,
   "metadata": {},
   "outputs": [],
   "source": [
    "# New data frame with only the 10-Q and 10-K filings\n",
    "data <- out.file %>% filter(form.type == \"10-K\" | form.type == \"10-Q\")"
   ]
  },
  {
   "cell_type": "markdown",
   "metadata": {},
   "source": [
    "Furthermore, in my specific research project, I was only interested in the filings of companies that were also part of the Compustat database. The identifier that was available to me in both sets was the companies CIK code. However, the Compustat database is proprietary and thus, I cannot share the file with all CIK codes of the companies. At this point, you should limit your dataset to companies that matter for your specific problem."
   ]
  },
  {
   "cell_type": "code",
   "execution_count": null,
   "metadata": {},
   "outputs": [],
   "source": [
    "# Read the file with the CIK codes from the quarterly Compustat file\n",
    "CIK <- read_csv(\"../CIK.txt\", col_names = FALSE)\n",
    "CIK <- as.integer(CIK[1,])\n",
    "\n",
    "# Keep only observations from the quarterly Compustat file\n",
    "data <- data %>% filter(cik %in% CIK)\n",
    "\n",
    "##### at this point we have a data frame with 10-K and 10-Q filings for the Compustat quarterly universe (incl. URLs) #####"
   ]
  },
  {
   "cell_type": "markdown",
   "metadata": {},
   "source": [
    "The next step in my PhD project will involve a text-search through all the filings in my dataframe. Therefore, I have to download the filings as .txt files from the database. In my case the number of distinct companies was around 11'000 over the whole sample period. These companies produced more than 364'000 separate 10-K and 10-Q filings. The final folder of all downloades hat an approximate size of 1TB and it took me 4 days to store. If your project is similar in spirit, I highly recommend downloading to an external drive or NAS ;-)"
   ]
  },
  {
   "cell_type": "code",
   "execution_count": null,
   "metadata": {},
   "outputs": [],
   "source": [
    "# Downloads all Filings and gets information from the filing header (change directory to an external drive or NAS)\n",
    "period <- c(1996:2019)\n",
    "header.df <- getFilingHeader(cik.no = CIK, form.type = c('10-K', '10-Q'), filing.year = period)"
   ]
  }
 ],
 "metadata": {
  "kernelspec": {
   "display_name": "R",
   "language": "R",
   "name": "ir"
  },
  "language_info": {
   "codemirror_mode": "r",
   "file_extension": ".r",
   "mimetype": "text/x-r-source",
   "name": "R",
   "pygments_lexer": "r",
   "version": "3.6.1"
  }
 },
 "nbformat": 4,
 "nbformat_minor": 4
}
